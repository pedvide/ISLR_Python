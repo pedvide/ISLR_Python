{
 "cells": [
  {
   "cell_type": "code",
   "execution_count": 90,
   "metadata": {},
   "outputs": [],
   "source": [
    "import pandas as pd\n",
    "import numpy as np\n",
    "import matplotlib.pyplot as plt\n",
    "import seaborn as sns\n",
    "\n",
    "import sklearn.linear_model as skl_lm\n",
    "from sklearn.metrics import mean_squared_error\n",
    "from sklearn.model_selection import train_test_split, LeaveOneOut, KFold, cross_val_score, cross_validate\n",
    "from sklearn.preprocessing import PolynomialFeatures\n",
    "from sklearn.utils import resample\n",
    "\n",
    "import statsmodels.formula.api as smf\n",
    "\n",
    "from scipy import stats\n",
    "\n",
    "%matplotlib inline\n",
    "plt.style.use('seaborn-white')"
   ]
  },
  {
   "cell_type": "markdown",
   "metadata": {},
   "source": [
    "# Data"
   ]
  },
  {
   "cell_type": "code",
   "execution_count": 2,
   "metadata": {},
   "outputs": [
    {
     "name": "stdout",
     "output_type": "stream",
     "text": [
      "<class 'pandas.core.frame.DataFrame'>\n",
      "Int64Index: 392 entries, 0 to 396\n",
      "Data columns (total 9 columns):\n",
      "mpg             392 non-null float64\n",
      "cylinders       392 non-null int64\n",
      "displacement    392 non-null float64\n",
      "horsepower      392 non-null float64\n",
      "weight          392 non-null int64\n",
      "acceleration    392 non-null float64\n",
      "year            392 non-null int64\n",
      "origin          392 non-null int64\n",
      "name            392 non-null object\n",
      "dtypes: float64(4), int64(4), object(1)\n",
      "memory usage: 30.6+ KB\n"
     ]
    }
   ],
   "source": [
    "df_auto = pd.read_csv('Data/Auto.csv', na_values='?').dropna()\n",
    "df_auto.info()"
   ]
  },
  {
   "cell_type": "code",
   "execution_count": 3,
   "metadata": {},
   "outputs": [
    {
     "data": {
      "text/html": [
       "<div>\n",
       "<style scoped>\n",
       "    .dataframe tbody tr th:only-of-type {\n",
       "        vertical-align: middle;\n",
       "    }\n",
       "\n",
       "    .dataframe tbody tr th {\n",
       "        vertical-align: top;\n",
       "    }\n",
       "\n",
       "    .dataframe thead th {\n",
       "        text-align: right;\n",
       "    }\n",
       "</style>\n",
       "<table border=\"1\" class=\"dataframe\">\n",
       "  <thead>\n",
       "    <tr style=\"text-align: right;\">\n",
       "      <th></th>\n",
       "      <th>mpg</th>\n",
       "      <th>cylinders</th>\n",
       "      <th>displacement</th>\n",
       "      <th>horsepower</th>\n",
       "      <th>weight</th>\n",
       "      <th>acceleration</th>\n",
       "      <th>year</th>\n",
       "      <th>origin</th>\n",
       "      <th>name</th>\n",
       "    </tr>\n",
       "  </thead>\n",
       "  <tbody>\n",
       "    <tr>\n",
       "      <th>0</th>\n",
       "      <td>18.0</td>\n",
       "      <td>8</td>\n",
       "      <td>307.0</td>\n",
       "      <td>130.0</td>\n",
       "      <td>3504</td>\n",
       "      <td>12.0</td>\n",
       "      <td>70</td>\n",
       "      <td>1</td>\n",
       "      <td>chevrolet chevelle malibu</td>\n",
       "    </tr>\n",
       "    <tr>\n",
       "      <th>1</th>\n",
       "      <td>15.0</td>\n",
       "      <td>8</td>\n",
       "      <td>350.0</td>\n",
       "      <td>165.0</td>\n",
       "      <td>3693</td>\n",
       "      <td>11.5</td>\n",
       "      <td>70</td>\n",
       "      <td>1</td>\n",
       "      <td>buick skylark 320</td>\n",
       "    </tr>\n",
       "    <tr>\n",
       "      <th>2</th>\n",
       "      <td>18.0</td>\n",
       "      <td>8</td>\n",
       "      <td>318.0</td>\n",
       "      <td>150.0</td>\n",
       "      <td>3436</td>\n",
       "      <td>11.0</td>\n",
       "      <td>70</td>\n",
       "      <td>1</td>\n",
       "      <td>plymouth satellite</td>\n",
       "    </tr>\n",
       "    <tr>\n",
       "      <th>3</th>\n",
       "      <td>16.0</td>\n",
       "      <td>8</td>\n",
       "      <td>304.0</td>\n",
       "      <td>150.0</td>\n",
       "      <td>3433</td>\n",
       "      <td>12.0</td>\n",
       "      <td>70</td>\n",
       "      <td>1</td>\n",
       "      <td>amc rebel sst</td>\n",
       "    </tr>\n",
       "    <tr>\n",
       "      <th>4</th>\n",
       "      <td>17.0</td>\n",
       "      <td>8</td>\n",
       "      <td>302.0</td>\n",
       "      <td>140.0</td>\n",
       "      <td>3449</td>\n",
       "      <td>10.5</td>\n",
       "      <td>70</td>\n",
       "      <td>1</td>\n",
       "      <td>ford torino</td>\n",
       "    </tr>\n",
       "  </tbody>\n",
       "</table>\n",
       "</div>"
      ],
      "text/plain": [
       "    mpg  cylinders  displacement  horsepower  weight  acceleration  year  \\\n",
       "0  18.0          8         307.0       130.0    3504          12.0    70   \n",
       "1  15.0          8         350.0       165.0    3693          11.5    70   \n",
       "2  18.0          8         318.0       150.0    3436          11.0    70   \n",
       "3  16.0          8         304.0       150.0    3433          12.0    70   \n",
       "4  17.0          8         302.0       140.0    3449          10.5    70   \n",
       "\n",
       "   origin                       name  \n",
       "0       1  chevrolet chevelle malibu  \n",
       "1       1          buick skylark 320  \n",
       "2       1         plymouth satellite  \n",
       "3       1              amc rebel sst  \n",
       "4       1                ford torino  "
      ]
     },
     "execution_count": 3,
     "metadata": {},
     "output_type": "execute_result"
    }
   ],
   "source": [
    "df_auto.head()"
   ]
  },
  {
   "cell_type": "markdown",
   "metadata": {},
   "source": [
    "# 5.1 Cross-Validation"
   ]
  },
  {
   "cell_type": "markdown",
   "metadata": {},
   "source": [
    "## 5.1.1 The Validation Set Approach"
   ]
  },
  {
   "cell_type": "code",
   "execution_count": 4,
   "metadata": {},
   "outputs": [
    {
     "data": {
      "image/png": "[encoded data removed]",
      "text/plain": [
       "<Figure size 720x288 with 2 Axes>"
      ]
     },
     "metadata": {},
     "output_type": "display_data"
    }
   ],
   "source": [
    "test_prop = 0.5\n",
    "p_order = np.arange(1,11)\n",
    "r_state = np.arange(0,10)\n",
    "\n",
    "# r_state: 10 splits of the data \n",
    "# p_order: polynomials of order up to 10\n",
    "X, Y = np.meshgrid(p_order, r_state, indexing='ij')\n",
    "Z = np.zeros((p_order.size,r_state.size))\n",
    "\n",
    "regr = skl_lm.LinearRegression()\n",
    "\n",
    "# Generate 10 random splits of the dataset\n",
    "for (i, j), v in np.ndenumerate(Z):\n",
    "    poly = PolynomialFeatures(int(X[i,j]))\n",
    "    X_poly = poly.fit_transform(df_auto.horsepower.values.reshape(-1,1))\n",
    "    \n",
    "    X_train, X_test, y_train, y_test = train_test_split(X_poly, df_auto.mpg.ravel(),\n",
    "                                                        test_size=test_prop, random_state=Y[i,j])\n",
    "                                                                        \n",
    "    regr.fit(X_train, y_train)\n",
    "    pred = regr.predict(X_test)\n",
    "    Z[i, j] = mean_squared_error(y_test, pred)\n",
    "\n",
    "# plots\n",
    "fig, (ax1, ax2) = plt.subplots(1, 2, figsize=(10,4))\n",
    "\n",
    "# Left plot (first split)\n",
    "ax1.plot(X.T[0], Z.T[0], '-o')\n",
    "ax1.set_title('Random split of the data set')\n",
    "\n",
    "# Right plot (all splits)\n",
    "ax2.plot(X, Z)\n",
    "ax2.set_title('10 random splits of the data set')\n",
    "\n",
    "for ax in fig.axes:\n",
    "    ax.set_ylabel('Mean Squared Error')\n",
    "    ax.set_ylim(15,30)\n",
    "    ax.set_xlabel('Degree of Polynomial')\n",
    "    ax.set_xlim(0.5, 10.5)\n",
    "    ax.set_xticks(range(2, 11, 2));\n",
    "    \n",
    "# mean and std\n",
    "val_meanMSE = np.mean(Z, axis=1)\n",
    "val_stdMSE = np.std(Z, axis=1)\n",
    "ax2.plot(X.T[0], val_meanMSE, 'k', linewidth=4)\n",
    "ax2.fill_between(X.T[0], val_meanMSE+val_stdMSE, val_meanMSE-val_stdMSE, facecolor='blue', alpha=0.3);\n",
    "\n",
    "val_MSE = Z.T[0]"
   ]
  },
  {
   "cell_type": "markdown",
   "metadata": {},
   "source": [
    "## 5.1.2 Leave-One-Out Cross-Validation"
   ]
  },
  {
   "cell_type": "code",
   "execution_count": 5,
   "metadata": {},
   "outputs": [],
   "source": [
    "regr = skl_lm.LinearRegression()\n",
    "loocv_scores = list()\n",
    "loo = LeaveOneOut()\n",
    "\n",
    "for p in p_order:\n",
    "    poly = PolynomialFeatures(p)\n",
    "    X_poly = poly.fit_transform(df_auto.horsepower.values.reshape(-1,1))\n",
    "    score = cross_val_score(regr, X_poly, df_auto.mpg, cv=loo, scoring='neg_mean_squared_error')\n",
    "    loocv_scores.append((-score.mean(), score.std()))\n",
    "loocv_scores = np.array(loocv_scores)"
   ]
  },
  {
   "cell_type": "markdown",
   "metadata": {},
   "source": [
    "## 5.1.3 k-Fold Cross-Validation"
   ]
  },
  {
   "cell_type": "code",
   "execution_count": 6,
   "metadata": {},
   "outputs": [],
   "source": [
    "regr = skl_lm.LinearRegression()\n",
    "kfoldcv_scores = list()\n",
    "\n",
    "for p in p_order:\n",
    "    poly = PolynomialFeatures(p)\n",
    "    X_poly = poly.fit_transform(df_auto.horsepower.values.reshape(-1,1))\n",
    "    # with shuffle=True we get much better mean and std\n",
    "    # but then each train/test split is different across models\n",
    "    kfold = KFold(n_splits=10, shuffle=False)\n",
    "    score = cross_val_score(regr, X_poly, df_auto.mpg, cv=kfold, scoring='neg_mean_squared_error')\n",
    "    kfoldcv_scores.append((-score.mean(), score.std()))\n",
    "kfoldcv_scores = np.array(kfoldcv_scores)"
   ]
  },
  {
   "cell_type": "markdown",
   "metadata": {},
   "source": [
    "### FIGURE 5.4"
   ]
  },
  {
   "cell_type": "code",
   "execution_count": 7,
   "metadata": {},
   "outputs": [
    {
     "data": {
      "image/png": "[encoded data removed]",
      "text/plain": [
       "<Figure size 720x288 with 2 Axes>"
      ]
     },
     "metadata": {},
     "output_type": "display_data"
    }
   ],
   "source": [
    "# plots\n",
    "fig, (ax1, ax2) = plt.subplots(1, 2, figsize=(10,4))\n",
    "fig.suptitle('Blue shaded region is mean\\u00B10.1std', fontsize=16)\n",
    "\n",
    "# left plot is LOOCV\n",
    "ax1.plot(p_order, loocv_scores[:,0], '-o')\n",
    "ax1.set_title('Leave-One-Out CV')\n",
    "ax1.fill_between(p_order, loocv_scores[:,0]+0.1*loocv_scores[:,1], loocv_scores[:,0]-0.1*loocv_scores[:,1],\n",
    "                 facecolor='blue', alpha=0.3);\n",
    "\n",
    "# right plot: K-fold CV\n",
    "ax2.plot(p_order, kfoldcv_scores[:,0], '-o')\n",
    "ax2.set_title('10-Fold CV')\n",
    "ax2.fill_between(p_order, kfoldcv_scores[:,0]+0.1*kfoldcv_scores[:,1], kfoldcv_scores[:,0]-0.1*kfoldcv_scores[:,1],\n",
    "                 facecolor='blue', alpha=0.3);\n",
    "\n",
    "for ax in fig.axes:\n",
    "    ax.set_ylabel('Mean Squared Error')\n",
    "    ax.set_ylim(15,30)\n",
    "    ax.set_xlabel('Degree of Polynomial')\n",
    "    ax.set_xlim(0.5, 10.5)\n",
    "    ax.set_xticks(range(2, 11, 2));"
   ]
  },
  {
   "cell_type": "markdown",
   "metadata": {},
   "source": [
    "## 5.1.4 Bias-Variance Trade-Off for k-Fold Cross-Validation"
   ]
  },
  {
   "cell_type": "code",
   "execution_count": 8,
   "metadata": {},
   "outputs": [
    {
     "name": "stdout",
     "output_type": "stream",
     "text": [
      "Mean ± std of MSE for p=2:\n",
      "    Validation set:   18.76±2.10\n",
      "    Leave-One-Out CV: 19.25±35.00\n",
      "    10-Fold CV:       21.24±11.80\n"
     ]
    }
   ],
   "source": [
    "print(f'Mean \\u00B1 std of MSE for p=2:')\n",
    "print(f'    Validation set:   {val_MSE[1]:.2f}\\u00B1{val_stdMSE[1]:.2f}')\n",
    "print(f'    Leave-One-Out CV: {loocv_scores[1,0]:.2f}\\u00B1{loocv_scores[1,1]:.2f}')\n",
    "print(f'    10-Fold CV:       {kfoldcv_scores[1,0]:.2f}\\u00B1{kfoldcv_scores[1,1]:.2f}')"
   ]
  },
  {
   "cell_type": "markdown",
   "metadata": {},
   "source": [
    "## 5.1.5 Cross-Validation on Classification Problems"
   ]
  },
  {
   "cell_type": "code",
   "execution_count": 9,
   "metadata": {},
   "outputs": [],
   "source": [
    "# TODO"
   ]
  },
  {
   "cell_type": "markdown",
   "metadata": {},
   "source": [
    "# 5.2 The Bootstrap"
   ]
  },
  {
   "cell_type": "code",
   "execution_count": 10,
   "metadata": {},
   "outputs": [
    {
     "data": {
      "image/png": "[encoded data removed]",
      "text/plain": [
       "<Figure size 432x288 with 1 Axes>"
      ]
     },
     "metadata": {},
     "output_type": "display_data"
    }
   ],
   "source": [
    "mean = np.array([0, 0])\n",
    "sigmaX = np.sqrt(1)\n",
    "sigmaY = np.sqrt(1.25)\n",
    "sigmaXY = 0.5\n",
    "cov = np.array([[sigmaX, sigmaXY], [sigmaXY, sigmaY]])\n",
    "N = 100\n",
    "sample = np.random.multivariate_normal(mean, cov, (N,)) \n",
    "plt.scatter(sample[:,0], sample[:,1]);"
   ]
  },
  {
   "cell_type": "code",
   "execution_count": 11,
   "metadata": {},
   "outputs": [
    {
     "name": "stdout",
     "output_type": "stream",
     "text": [
      "True alpha: 0.6\n"
     ]
    }
   ],
   "source": [
    "def est_alpha(est_sigmaX, est_sigmaY, est_sigmaXY):\n",
    "    return (est_sigmaY**2 - est_sigmaXY)/(est_sigmaX**2 + est_sigmaY**2 - 2*est_sigmaXY)\n",
    "true_alpha = est_alpha(sigmaX, sigmaY, sigmaXY)\n",
    "print(f'True alpha: {true_alpha:.1f}')"
   ]
  },
  {
   "cell_type": "code",
   "execution_count": 12,
   "metadata": {},
   "outputs": [],
   "source": [
    "# generate N_simulations from the original distribution\n",
    "N_samples = 100\n",
    "N_simulations = 1000\n",
    "alpha_sim = np.zeros((N_simulations,))\n",
    "for i_sim in range(N_simulations):\n",
    "    sample = np.random.multivariate_normal(mean, cov, (N_samples,)) \n",
    "    est_mean = np.mean(sample)\n",
    "    est_cov = np.cov(sample, rowvar=False)\n",
    "    alpha_sim[i_sim] = est_alpha(est_cov[0,0], est_cov[1,1], est_cov[0,1])\n",
    "sim_alpha = np.mean(alpha_sim)\n",
    "sim_alpha_std = np.std(alpha_sim)"
   ]
  },
  {
   "cell_type": "code",
   "execution_count": 13,
   "metadata": {},
   "outputs": [],
   "source": [
    "# bootstrap samples\n",
    "N_samples = 100\n",
    "N_bootstrap = 1000\n",
    "alpha_bst = np.zeros((N_bootstrap,))\n",
    "sample = np.random.multivariate_normal(mean, cov, (N_samples,)) \n",
    "for i_sim in range(N_bootstrap):\n",
    "    sample_bootstrap = resample(sample, replace=True)\n",
    "    est_mean = np.mean(sample_bootstrap)\n",
    "    est_cov = np.cov(sample_bootstrap, rowvar=False)\n",
    "    alpha_bst[i_sim] = est_alpha(est_cov[0,0], est_cov[1,1], est_cov[0,1])\n",
    "bst_alpha = np.mean(alpha_bst)\n",
    "bst_alpha_std = np.std(alpha_bst)"
   ]
  },
  {
   "cell_type": "code",
   "execution_count": 14,
   "metadata": {},
   "outputs": [
    {
     "name": "stderr",
     "output_type": "stream",
     "text": [
      "C:\\Users\\villanueva\\Anaconda3\\lib\\site-packages\\matplotlib\\axes\\_axes.py:6462: UserWarning: The 'normed' kwarg is deprecated, and has been replaced by the 'density' kwarg.\n",
      "  warnings.warn(\"The 'normed' kwarg is deprecated, and has been \"\n",
      "C:\\Users\\villanueva\\Anaconda3\\lib\\site-packages\\matplotlib\\axes\\_axes.py:6462: UserWarning: The 'normed' kwarg is deprecated, and has been replaced by the 'density' kwarg.\n",
      "  warnings.warn(\"The 'normed' kwarg is deprecated, and has been \"\n"
     ]
    },
    {
     "name": "stdout",
     "output_type": "stream",
     "text": [
      "Population estimate α: 0.590±0.150\n",
      "Bootstrap estimate α: 0.647±0.141\n"
     ]
    },
    {
     "data": {
      "image/png": "[encoded data removed]",
      "text/plain": [
       "<Figure size 720x288 with 3 Axes>"
      ]
     },
     "metadata": {},
     "output_type": "display_data"
    }
   ],
   "source": [
    "fig, (ax1, ax2, ax3) = plt.subplots(1, 3, figsize=(10,4))\n",
    "\n",
    "N_bins = int((max(alpha_sim)-min(alpha_sim))/0.05)\n",
    "\n",
    "# population histigram\n",
    "sns.distplot(alpha_sim, kde=False, hist_kws=dict(edgecolor=\"k\", linewidth=1), bins=N_bins, color='orange', ax=ax1);\n",
    "ax1.axvline(true_alpha, linewidth=3, color='violet')\n",
    "\n",
    "# bootstrap histogram\n",
    "sns.distplot(alpha_bst, kde=False, hist_kws=dict(edgecolor=\"k\", linewidth=1), bins=N_bins, color='lightblue', ax=ax2);\n",
    "ax2.axvline(true_alpha, linewidth=3, color='violet')\n",
    "\n",
    "# boxplots\n",
    "df = pd.DataFrame({'True': alpha_sim, 'Bootstrap': alpha_bst})\n",
    "sns.boxplot(data=df, orient='v', palette={'True': 'orange', 'Bootstrap': 'lightblue'}, ax=ax3)\n",
    "ax3.axhline(true_alpha, linewidth=3, color='violet')\n",
    "ax3.set_ylabel('\\u03B1')\n",
    "\n",
    "for ax in (ax1, ax2):\n",
    "    ax.set_xlabel('\\u03B1')\n",
    "    ax.set_xlim(0.0, 1.0)\n",
    "    \n",
    "# the books gives the standard error, which is the std dev of the sampling distribution\n",
    "print(f'Population estimate \\u03B1: {sim_alpha:.3f}\\u00B1{sim_alpha_std:.3f}')\n",
    "print(f'Bootstrap estimate \\u03B1: {bst_alpha:.3f}\\u00B1{bst_alpha_std:.3f}')"
   ]
  },
  {
   "cell_type": "markdown",
   "metadata": {},
   "source": [
    "# 5.3 Lab: Cross-Validation and the Bootstrap"
   ]
  },
  {
   "cell_type": "markdown",
   "metadata": {},
   "source": [
    "## 5.3.1 The Validation Set Approach"
   ]
  },
  {
   "cell_type": "markdown",
   "metadata": {},
   "source": [
    "## 5.3.2 Leave-One-Out Cross-Validation"
   ]
  },
  {
   "cell_type": "markdown",
   "metadata": {},
   "source": [
    "## 5.3.3 k-Fold Cross-Validation"
   ]
  },
  {
   "cell_type": "markdown",
   "metadata": {},
   "source": [
    "These three sections have been already done in sections 5.1.1-5.1.3"
   ]
  },
  {
   "cell_type": "markdown",
   "metadata": {},
   "source": [
    "## 5.3.4 The Bootstrap"
   ]
  },
  {
   "cell_type": "markdown",
   "metadata": {},
   "source": [
    "### Estimating the Accuracy of a Statistic of Interest"
   ]
  },
  {
   "cell_type": "markdown",
   "metadata": {},
   "source": [
    "Already done in 5.2"
   ]
  },
  {
   "cell_type": "markdown",
   "metadata": {},
   "source": [
    "### Estimating the Accuracy of a Linear Regression Model"
   ]
  },
  {
   "cell_type": "code",
   "execution_count": 60,
   "metadata": {},
   "outputs": [],
   "source": [
    "# bootstrap function\n",
    "def bootstrap(data, function, N_bootstrap):\n",
    "    '''Compute N_boostrap samples from data and apply function to them. \n",
    "    Returns the mean and std of the function result'''\n",
    "    fn_real = np.array(function(data))\n",
    "    bst_fn = list()\n",
    "    for i in range(N_bootstrap):\n",
    "        if type(data) == tuple:\n",
    "            sample_bootstrap = resample(*data, replace=True)\n",
    "        else:\n",
    "            sample_bootstrap = resample(data, replace=True)\n",
    "        bst_fn.append(function(sample_bootstrap))\n",
    "    bst_fn = np.array(bst_fn)\n",
    "    bst_fn_mean = np.mean(bst_fn, axis=0)\n",
    "    bst_fn_std = np.std(bst_fn, axis=0)\n",
    "    return bst_fn_mean, bst_fn_std, fn_real"
   ]
  },
  {
   "cell_type": "code",
   "execution_count": 61,
   "metadata": {},
   "outputs": [
    {
     "data": {
      "text/plain": [
       "(array([1.98866667, 4.17444444]),\n",
       " array([0.46866761, 1.89831992]),\n",
       " array([2., 4.]))"
      ]
     },
     "execution_count": 61,
     "metadata": {},
     "output_type": "execute_result"
    }
   ],
   "source": [
    "# example\n",
    "bootstrap(np.array([1,2,3]), lambda x: (x.mean(), x.mean()**2), 1000)"
   ]
  },
  {
   "cell_type": "code",
   "execution_count": 62,
   "metadata": {},
   "outputs": [],
   "source": [
    "def linear_model(data):\n",
    "    X = data[0]\n",
    "    y = data[1]\n",
    "    regr = skl_lm.LinearRegression()\n",
    "    #X = df_auto.horsepower.values.reshape(-1,1)\n",
    "    #y = df_auto.mpg                                              \n",
    "    regr.fit(X, y)\n",
    "    return (regr.intercept_, *regr.coef_)"
   ]
  },
  {
   "cell_type": "code",
   "execution_count": 95,
   "metadata": {},
   "outputs": [
    {
     "data": {
      "text/html": [
       "<div>\n",
       "<style scoped>\n",
       "    .dataframe tbody tr th:only-of-type {\n",
       "        vertical-align: middle;\n",
       "    }\n",
       "\n",
       "    .dataframe tbody tr th {\n",
       "        vertical-align: top;\n",
       "    }\n",
       "\n",
       "    .dataframe thead th {\n",
       "        text-align: right;\n",
       "    }\n",
       "</style>\n",
       "<table border=\"1\" class=\"dataframe\">\n",
       "  <thead>\n",
       "    <tr style=\"text-align: right;\">\n",
       "      <th></th>\n",
       "      <th>Real</th>\n",
       "      <th>Bias</th>\n",
       "      <th>Std dev</th>\n",
       "    </tr>\n",
       "  </thead>\n",
       "  <tbody>\n",
       "    <tr>\n",
       "      <th>Intercept</th>\n",
       "      <td>39.935861</td>\n",
       "      <td>0.055151</td>\n",
       "      <td>0.842099</td>\n",
       "    </tr>\n",
       "    <tr>\n",
       "      <th>Horsepower</th>\n",
       "      <td>-0.157845</td>\n",
       "      <td>-0.000617</td>\n",
       "      <td>0.007338</td>\n",
       "    </tr>\n",
       "  </tbody>\n",
       "</table>\n",
       "</div>"
      ],
      "text/plain": [
       "                 Real      Bias   Std dev\n",
       "Intercept   39.935861  0.055151  0.842099\n",
       "Horsepower  -0.157845 -0.000617  0.007338"
      ]
     },
     "execution_count": 95,
     "metadata": {},
     "output_type": "execute_result"
    }
   ],
   "source": [
    "data = (df_auto.horsepower.values.reshape(-1,1), df_auto.mpg)\n",
    "bst_res = bootstrap(data, linear_model, 1000)\n",
    "df_bst = pd.DataFrame(np.array(bst_res).T, index=['Intercept', 'Horsepower'], columns=['Mean', 'Std dev', 'Real'])\n",
    "df_bst['Bias'] = df_bst['Mean'] - df_bst['Real']\n",
    "df_bst[['Real', 'Bias', 'Std dev']]"
   ]
  },
  {
   "cell_type": "code",
   "execution_count": 96,
   "metadata": {},
   "outputs": [
    {
     "data": {
      "text/html": [
       "<table class=\"simpletable\">\n",
       "<tr>\n",
       "       <td></td>         <th>coef</th>     <th>std err</th>      <th>t</th>      <th>P>|t|</th>  <th>[0.025</th>    <th>0.975]</th>  \n",
       "</tr>\n",
       "<tr>\n",
       "  <th>Intercept</th>  <td>   39.9359</td> <td>    0.717</td> <td>   55.660</td> <td> 0.000</td> <td>   38.525</td> <td>   41.347</td>\n",
       "</tr>\n",
       "<tr>\n",
       "  <th>horsepower</th> <td>   -0.1578</td> <td>    0.006</td> <td>  -24.489</td> <td> 0.000</td> <td>   -0.171</td> <td>   -0.145</td>\n",
       "</tr>\n",
       "</table>"
      ],
      "text/plain": [
       "<class 'statsmodels.iolib.table.SimpleTable'>"
      ]
     },
     "execution_count": 96,
     "metadata": {},
     "output_type": "execute_result"
    }
   ],
   "source": [
    "est = smf.ols('mpg ~ horsepower', df_auto).fit()\n",
    "est.summary().tables[1]"
   ]
  },
  {
   "cell_type": "code",
   "execution_count": 109,
   "metadata": {},
   "outputs": [],
   "source": [
    "def quadratic_model(data):\n",
    "    X = data[0]\n",
    "    poly = PolynomialFeatures(2)\n",
    "    X_poly = poly.fit_transform(X)\n",
    "    y = data[1]\n",
    "    regr = skl_lm.LinearRegression()                                        \n",
    "    regr.fit(X_poly, y)\n",
    "    return (regr.intercept_, *regr.coef_[1:])"
   ]
  },
  {
   "cell_type": "code",
   "execution_count": 111,
   "metadata": {},
   "outputs": [
    {
     "data": {
      "text/html": [
       "<div>\n",
       "<style scoped>\n",
       "    .dataframe tbody tr th:only-of-type {\n",
       "        vertical-align: middle;\n",
       "    }\n",
       "\n",
       "    .dataframe tbody tr th {\n",
       "        vertical-align: top;\n",
       "    }\n",
       "\n",
       "    .dataframe thead th {\n",
       "        text-align: right;\n",
       "    }\n",
       "</style>\n",
       "<table border=\"1\" class=\"dataframe\">\n",
       "  <thead>\n",
       "    <tr style=\"text-align: right;\">\n",
       "      <th></th>\n",
       "      <th>Real</th>\n",
       "      <th>Bias</th>\n",
       "      <th>Std dev</th>\n",
       "    </tr>\n",
       "  </thead>\n",
       "  <tbody>\n",
       "    <tr>\n",
       "      <th>Intercept</th>\n",
       "      <td>56.900100</td>\n",
       "      <td>-0.056158</td>\n",
       "      <td>2.035524</td>\n",
       "    </tr>\n",
       "    <tr>\n",
       "      <th>Horsepower</th>\n",
       "      <td>-0.466190</td>\n",
       "      <td>0.000825</td>\n",
       "      <td>0.032500</td>\n",
       "    </tr>\n",
       "    <tr>\n",
       "      <th>Horsepower**2</th>\n",
       "      <td>0.001231</td>\n",
       "      <td>-0.000002</td>\n",
       "      <td>0.000117</td>\n",
       "    </tr>\n",
       "  </tbody>\n",
       "</table>\n",
       "</div>"
      ],
      "text/plain": [
       "                    Real      Bias   Std dev\n",
       "Intercept      56.900100 -0.056158  2.035524\n",
       "Horsepower     -0.466190  0.000825  0.032500\n",
       "Horsepower**2   0.001231 -0.000002  0.000117"
      ]
     },
     "execution_count": 111,
     "metadata": {},
     "output_type": "execute_result"
    }
   ],
   "source": [
    "data = (df_auto.horsepower.values.reshape(-1,1), df_auto.mpg)\n",
    "bst_res = bootstrap(data, quadratic_model, 1000)\n",
    "df_bst = pd.DataFrame(np.array(bst_res).T, index=['Intercept', 'Horsepower', 'Horsepower**2'], columns=['Mean', 'Std dev', 'Real'])\n",
    "df_bst['Bias'] = df_bst['Mean'] - df_bst['Real']\n",
    "df_bst[['Real', 'Bias', 'Std dev']]"
   ]
  },
  {
   "cell_type": "code",
   "execution_count": 118,
   "metadata": {},
   "outputs": [
    {
     "data": {
      "text/html": [
       "<table class=\"simpletable\">\n",
       "<tr>\n",
       "             <td></td>                <th>coef</th>     <th>std err</th>      <th>t</th>      <th>P>|t|</th>  <th>[0.025</th>    <th>0.975]</th>  \n",
       "</tr>\n",
       "<tr>\n",
       "  <th>Intercept</th>               <td>   56.9001</td> <td>    1.800</td> <td>   31.604</td> <td> 0.000</td> <td>   53.360</td> <td>   60.440</td>\n",
       "</tr>\n",
       "<tr>\n",
       "  <th>horsepower</th>              <td>   -0.4662</td> <td>    0.031</td> <td>  -14.978</td> <td> 0.000</td> <td>   -0.527</td> <td>   -0.405</td>\n",
       "</tr>\n",
       "<tr>\n",
       "  <th>np.power(horsepower, 2)</th> <td>    0.0012</td> <td>    0.000</td> <td>   10.080</td> <td> 0.000</td> <td>    0.001</td> <td>    0.001</td>\n",
       "</tr>\n",
       "</table>"
      ],
      "text/plain": [
       "<class 'statsmodels.iolib.table.SimpleTable'>"
      ]
     },
     "execution_count": 118,
     "metadata": {},
     "output_type": "execute_result"
    }
   ],
   "source": [
    "est = smf.ols('mpg ~ horsepower + np.power(horsepower,2)', df_auto).fit()\n",
    "est.summary().tables[1]"
   ]
  },
  {
   "cell_type": "code",
   "execution_count": null,
   "metadata": {},
   "outputs": [],
   "source": []
  }
 ],
 "metadata": {
  "kernelspec": {
   "display_name": "Python 3",
   "language": "python",
   "name": "python3"
  },
  "language_info": {
   "codemirror_mode": {
    "name": "ipython",
    "version": 3
   },
   "file_extension": ".py",
   "mimetype": "text/x-python",
   "name": "python",
   "nbconvert_exporter": "python",
   "pygments_lexer": "ipython3",
   "version": "3.6.5"
  }
 },
 "nbformat": 4,
 "nbformat_minor": 2
}
